{
 "cells": [
  {
   "cell_type": "code",
   "execution_count": 2,
   "id": "13096518",
   "metadata": {},
   "outputs": [
    {
     "name": "stdout",
     "output_type": "stream",
     "text": [
      "Kitne elements daalne hain: 4\n",
      "Element daalo: 1\n",
      "Element daalo: 1\n",
      "Element daalo: 2\n",
      "Element daalo: 3\n",
      "Ginwana hai kaunsa number kitni baar aaya hai: 1\n",
      "Number of times 1 appears is 2\n"
     ]
    }
   ],
   "source": [
    "class NumberCounter:\n",
    "    def __init__(self):\n",
    "        self.numbers = []\n",
    "\n",
    "    def add_numbers(self, count):\n",
    "        for _ in range(count):\n",
    "            number = int(input(\"Element daalo: \"))\n",
    "            self.numbers.append(number)\n",
    "\n",
    "    def count_occurrences(self, num):\n",
    "        count = 0\n",
    "        for n in self.numbers:\n",
    "            if n == num:\n",
    "                count += 1\n",
    "        return count\n",
    "\n",
    "# Example usage\n",
    "if __name__ == \"__main__\":\n",
    "    counter = NumberCounter()\n",
    "    n = int(input(\"Kitne elements daalne hain: \"))\n",
    "    counter.add_numbers(n)\n",
    "    \n",
    "    num = int(input(\"Ginwana hai kaunsa number kitni baar aaya hai: \"))\n",
    "    k = counter.count_occurrences(num)\n",
    "    \n",
    "    print(\"Number of times\", num, \"appears is\", k)\n"
   ]
  },
  {
   "cell_type": "code",
   "execution_count": null,
   "id": "f4e21891",
   "metadata": {},
   "outputs": [],
   "source": []
  }
 ],
 "metadata": {
  "kernelspec": {
   "display_name": "Python 3 (ipykernel)",
   "language": "python",
   "name": "python3"
  },
  "language_info": {
   "codemirror_mode": {
    "name": "ipython",
    "version": 3
   },
   "file_extension": ".py",
   "mimetype": "text/x-python",
   "name": "python",
   "nbconvert_exporter": "python",
   "pygments_lexer": "ipython3",
   "version": "3.11.5"
  }
 },
 "nbformat": 4,
 "nbformat_minor": 5
}
