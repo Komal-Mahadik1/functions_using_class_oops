{
 "cells": [
  {
   "cell_type": "code",
   "execution_count": 1,
   "id": "6973056d",
   "metadata": {},
   "outputs": [
    {
     "name": "stdout",
     "output_type": "stream",
     "text": [
      "120\n"
     ]
    }
   ],
   "source": [
    "class FactorialCalculator:\n",
    "    def __init__(self, number):\n",
    "        self.number = number\n",
    "\n",
    "    def calculate_factorial(self):\n",
    "        if self.number <= 0:\n",
    "            raise ValueError(\"Enter only positive number\")\n",
    "\n",
    "        t = 1\n",
    "        remains = 1\n",
    "        while t < self.number:\n",
    "            remains *= (self.number - t)\n",
    "            t += 1\n",
    "\n",
    "        factorial = self.number * remains\n",
    "        return factorial\n",
    "\n",
    "# Example usage:\n",
    "if __name__ == \"__main__\":\n",
    "    calculator = FactorialCalculator(5)\n",
    "    result = calculator.calculate_factorial()\n",
    "    print(result)\n"
   ]
  },
  {
   "cell_type": "code",
   "execution_count": null,
   "id": "9435e49c",
   "metadata": {},
   "outputs": [],
   "source": []
  }
 ],
 "metadata": {
  "kernelspec": {
   "display_name": "Python 3 (ipykernel)",
   "language": "python",
   "name": "python3"
  },
  "language_info": {
   "codemirror_mode": {
    "name": "ipython",
    "version": 3
   },
   "file_extension": ".py",
   "mimetype": "text/x-python",
   "name": "python",
   "nbconvert_exporter": "python",
   "pygments_lexer": "ipython3",
   "version": "3.11.5"
  }
 },
 "nbformat": 4,
 "nbformat_minor": 5
}
