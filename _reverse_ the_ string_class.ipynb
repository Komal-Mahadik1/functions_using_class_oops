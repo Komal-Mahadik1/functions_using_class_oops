{
 "cells": [
  {
   "cell_type": "code",
   "execution_count": 4,
   "id": "5318a5c5",
   "metadata": {},
   "outputs": [
    {
     "name": "stdout",
     "output_type": "stream",
     "text": [
      "olleh\n"
     ]
    }
   ],
   "source": [
    "class StringReverser:\n",
    "    def __init__(self, string):\n",
    "        self.string = string\n",
    "\n",
    "    def reverse(self):\n",
    "        index = len(self.string)\n",
    "        reversed_str = ''\n",
    "        \n",
    "        while index > 0:\n",
    "            reversed_str += self.string[index - 1]\n",
    "            index -= 1\n",
    "            \n",
    "        return reversed_str\n",
    "\n",
    "# Example usage\n",
    "if __name__ == \"__main__\":\n",
    "    string = 'hello'\n",
    "    reverser = StringReverser(string)\n",
    "    reversed_string = reverser.reverse()\n",
    "    print(reversed_string)\n"
   ]
  },
  {
   "cell_type": "code",
   "execution_count": 5,
   "id": "e5426bd5",
   "metadata": {},
   "outputs": [
    {
     "name": "stdout",
     "output_type": "stream",
     "text": [
      "olleh\n"
     ]
    }
   ],
   "source": [
    "class StringReverser:\n",
    "    def __init__(self, string):\n",
    "        self.string = string\n",
    "\n",
    "    def reverse(self):\n",
    "        return self.string[::-1]\n",
    "\n",
    "# Example usage\n",
    "if __name__ == \"__main__\":\n",
    "    string = 'hello'\n",
    "    reverser = StringReverser(string)\n",
    "    reversed_string = reverser.reverse()\n",
    "    print(reversed_string)\n"
   ]
  },
  {
   "cell_type": "code",
   "execution_count": null,
   "id": "94221dd5",
   "metadata": {},
   "outputs": [],
   "source": []
  }
 ],
 "metadata": {
  "kernelspec": {
   "display_name": "Python 3 (ipykernel)",
   "language": "python",
   "name": "python3"
  },
  "language_info": {
   "codemirror_mode": {
    "name": "ipython",
    "version": 3
   },
   "file_extension": ".py",
   "mimetype": "text/x-python",
   "name": "python",
   "nbconvert_exporter": "python",
   "pygments_lexer": "ipython3",
   "version": "3.11.5"
  }
 },
 "nbformat": 4,
 "nbformat_minor": 5
}
