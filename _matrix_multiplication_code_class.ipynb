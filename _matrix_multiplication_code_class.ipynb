{
 "cells": [
  {
   "cell_type": "code",
   "execution_count": 1,
   "id": "f3190792",
   "metadata": {},
   "outputs": [
    {
     "name": "stdout",
     "output_type": "stream",
     "text": [
      "[114, 160, 60, 27]\n",
      "[74, 97, 73, 14]\n",
      "[119, 157, 112, 23]\n"
     ]
    }
   ],
   "source": [
    "class MatrixMultiplier:\n",
    "    def __init__(self, matrix1, matrix2):\n",
    "        self.matrix1 = matrix1\n",
    "        self.matrix2 = matrix2\n",
    "\n",
    "    def multiply_matrices(self):\n",
    "        result = []\n",
    "        for X_row in self.matrix1:\n",
    "            row_result = []\n",
    "            for Y_col in zip(*self.matrix2):\n",
    "                row_result.append(sum(a * b for a, b in zip(X_row, Y_col)))\n",
    "            result.append(row_result)\n",
    "        return result\n",
    "\n",
    "    def display_result(self, result):\n",
    "        for row in result:\n",
    "            print(row)\n",
    "\n",
    "# Example usage\n",
    "if __name__ == \"__main__\":\n",
    "    X = [[12, 7, 3],\n",
    "         [4, 5, 6],\n",
    "         [7, 8, 9]]\n",
    "\n",
    "    Y = [[5, 8, 1, 2],\n",
    "         [6, 7, 3, 0],\n",
    "         [4, 5, 9, 1]]\n",
    "\n",
    "    multiplier = MatrixMultiplier(X, Y)\n",
    "    result = multiplier.multiply_matrices()\n",
    "    multiplier.display_result(result)\n"
   ]
  },
  {
   "cell_type": "code",
   "execution_count": null,
   "id": "0abefe64",
   "metadata": {},
   "outputs": [],
   "source": []
  }
 ],
 "metadata": {
  "kernelspec": {
   "display_name": "Python 3 (ipykernel)",
   "language": "python",
   "name": "python3"
  },
  "language_info": {
   "codemirror_mode": {
    "name": "ipython",
    "version": 3
   },
   "file_extension": ".py",
   "mimetype": "text/x-python",
   "name": "python",
   "nbconvert_exporter": "python",
   "pygments_lexer": "ipython3",
   "version": "3.11.5"
  }
 },
 "nbformat": 4,
 "nbformat_minor": 5
}
