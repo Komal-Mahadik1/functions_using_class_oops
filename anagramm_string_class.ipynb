{
 "cells": [
  {
   "cell_type": "code",
   "execution_count": 1,
   "id": "1d7bda9e",
   "metadata": {},
   "outputs": [
    {
     "name": "stdout",
     "output_type": "stream",
     "text": [
      "Anagram pair: hello hello\n",
      "Anagram pair: tom mot\n"
     ]
    }
   ],
   "source": [
    "class AnagramFinder:\n",
    "    def __init__(self, words):\n",
    "        self.words = words\n",
    "\n",
    "    def find_anagrams(self):\n",
    "        for i in range(len(self.words)):\n",
    "            for j in range(i + 1, len(self.words)):\n",
    "                if sorted(self.words[i]) == sorted(self.words[j]):\n",
    "                    print(\"Anagram pair:\", self.words[i], self.words[j])\n",
    "\n",
    "# Example usage\n",
    "words = [\"hello\", \"omalk\", \"vilas\", \"dikmaha\", \"hello\", \"world\", \"python\", \"tom\", \"mot\"]\n",
    "anagram_finder = AnagramFinder(words)\n",
    "anagram_finder.find_anagrams()\n"
   ]
  },
  {
   "cell_type": "code",
   "execution_count": null,
   "id": "b9816a01",
   "metadata": {},
   "outputs": [],
   "source": []
  }
 ],
 "metadata": {
  "kernelspec": {
   "display_name": "Python 3 (ipykernel)",
   "language": "python",
   "name": "python3"
  },
  "language_info": {
   "codemirror_mode": {
    "name": "ipython",
    "version": 3
   },
   "file_extension": ".py",
   "mimetype": "text/x-python",
   "name": "python",
   "nbconvert_exporter": "python",
   "pygments_lexer": "ipython3",
   "version": "3.11.5"
  }
 },
 "nbformat": 4,
 "nbformat_minor": 5
}
