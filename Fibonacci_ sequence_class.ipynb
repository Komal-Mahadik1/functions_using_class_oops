{
 "cells": [
  {
   "cell_type": "code",
   "execution_count": 1,
   "id": "e7421c2a",
   "metadata": {},
   "outputs": [
    {
     "name": "stdout",
     "output_type": "stream",
     "text": [
      "Fibonacci Sequence: [0, 1, 1, 2, 3, 5, 8, 13, 21, 34]\n",
      "Sum of Fibonacci Numbers: 88\n"
     ]
    }
   ],
   "source": [
    "class FibonacciSum:\n",
    "    def __init__(self):\n",
    "        self.list_fib = [0, 1]\n",
    "\n",
    "    def calculate_fibonacci(self):\n",
    "        while len(self.list_fib) < 10:\n",
    "            fib = self.list_fib[-1] + self.list_fib[-2]\n",
    "            self.list_fib.append(fib)\n",
    "\n",
    "    def sum_of_fibonacci(self):\n",
    "        return sum(self.list_fib)\n",
    "\n",
    "    def get_fibonacci_sequence(self):\n",
    "        return self.list_fib\n",
    "\n",
    "# Example usage:\n",
    "if __name__ == \"__main__\":\n",
    "    fib = FibonacciSum()\n",
    "    fib.calculate_fibonacci()\n",
    "    fibonacci_sequence = fib.get_fibonacci_sequence()\n",
    "    sum_of_fibonacci_numbers = fib.sum_of_fibonacci()\n",
    "    print(\"Fibonacci Sequence:\", fibonacci_sequence)\n",
    "    print(\"Sum of Fibonacci Numbers:\", sum_of_fibonacci_numbers)\n"
   ]
  },
  {
   "cell_type": "code",
   "execution_count": null,
   "id": "ff735975",
   "metadata": {},
   "outputs": [],
   "source": []
  }
 ],
 "metadata": {
  "kernelspec": {
   "display_name": "Python 3 (ipykernel)",
   "language": "python",
   "name": "python3"
  },
  "language_info": {
   "codemirror_mode": {
    "name": "ipython",
    "version": 3
   },
   "file_extension": ".py",
   "mimetype": "text/x-python",
   "name": "python",
   "nbconvert_exporter": "python",
   "pygments_lexer": "ipython3",
   "version": "3.11.5"
  }
 },
 "nbformat": 4,
 "nbformat_minor": 5
}
