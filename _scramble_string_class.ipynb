{
 "cells": [
  {
   "cell_type": "code",
   "execution_count": 1,
   "id": "227fcc83",
   "metadata": {},
   "outputs": [
    {
     "name": "stdout",
     "output_type": "stream",
     "text": [
      "True\n"
     ]
    }
   ],
   "source": [
    "class ScrambleChecker:\n",
    "    def __init__(self, s1, s2):\n",
    "        self.s1 = s1\n",
    "        self.s2 = s2\n",
    "\n",
    "    def is_scramble(self, s1=None, s2=None):\n",
    "        if s1 is None or s2 is None:\n",
    "            s1, s2 = self.s1, self.s2\n",
    "            \n",
    "        if len(s1) != len(s2) or sorted(s1) != sorted(s2):\n",
    "            return False\n",
    "\n",
    "        if s1 == s2:\n",
    "            return True\n",
    "\n",
    "        length = len(s1)\n",
    "\n",
    "        for i in range(1, length):\n",
    "            if (self.is_scramble(s1[:i], s2[:i]) and self.is_scramble(s1[i:], s2[i:])) or \\\n",
    "               (self.is_scramble(s1[:i], s2[length - i:]) and self.is_scramble(s1[i:], s2[:length - i])):\n",
    "                return True\n",
    "\n",
    "        return False\n",
    "\n",
    "# Example usage:\n",
    "if __name__ == \"__main__\":\n",
    "    s1 = \"table\"\n",
    "    s2 = \"letab\"\n",
    "    checker = ScrambleChecker(s1, s2)\n",
    "    result = checker.is_scramble()\n",
    "    print(result)\n"
   ]
  },
  {
   "cell_type": "code",
   "execution_count": null,
   "id": "d089a884",
   "metadata": {},
   "outputs": [],
   "source": []
  }
 ],
 "metadata": {
  "kernelspec": {
   "display_name": "Python 3 (ipykernel)",
   "language": "python",
   "name": "python3"
  },
  "language_info": {
   "codemirror_mode": {
    "name": "ipython",
    "version": 3
   },
   "file_extension": ".py",
   "mimetype": "text/x-python",
   "name": "python",
   "nbconvert_exporter": "python",
   "pygments_lexer": "ipython3",
   "version": "3.11.5"
  }
 },
 "nbformat": 4,
 "nbformat_minor": 5
}
