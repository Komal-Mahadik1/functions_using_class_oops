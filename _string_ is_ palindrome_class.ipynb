{
 "cells": [
  {
   "cell_type": "code",
   "execution_count": 1,
   "id": "b5fe85b5",
   "metadata": {},
   "outputs": [
    {
     "name": "stdout",
     "output_type": "stream",
     "text": [
      "It is a palindrome.\n"
     ]
    }
   ],
   "source": [
    "class PalindromeChecker:\n",
    "    def __init__(self, string):\n",
    "        self.string = string\n",
    "\n",
    "    def is_palindrome(self):\n",
    "        reversed_string = ''\n",
    "        for char in self.string:\n",
    "            reversed_string = char + reversed_string\n",
    "        \n",
    "        if reversed_string == self.string:\n",
    "            return 'It is a palindrome.'\n",
    "        else:\n",
    "            return 'It is not a palindrome.'\n",
    "\n",
    "# Example usage:\n",
    "if __name__ == \"__main__\":\n",
    "    checker = PalindromeChecker('level')\n",
    "    result = checker.is_palindrome()\n",
    "    print(result)\n"
   ]
  },
  {
   "cell_type": "code",
   "execution_count": 2,
   "id": "df7cc72d",
   "metadata": {},
   "outputs": [
    {
     "name": "stdout",
     "output_type": "stream",
     "text": [
      "Palindrome\n"
     ]
    }
   ],
   "source": [
    "class PalindromeChecker:\n",
    "    def __init__(self, string):\n",
    "        self.string = string.upper()\n",
    "    \n",
    "    def is_palindrome(self):\n",
    "        list_put = list(self.string)\n",
    "        start = 0\n",
    "        end = len(list_put) - 1\n",
    "        \n",
    "        while start < end:\n",
    "            list_put[start], list_put[end] = list_put[end], list_put[start]\n",
    "            start += 1\n",
    "            end -= 1\n",
    "        \n",
    "        for i in range(len(list_put)):\n",
    "            if list_put[i] != self.string[i]:\n",
    "                return 'Not a palindrome'\n",
    "        \n",
    "        return 'Palindrome'\n",
    "\n",
    "# Example usage:\n",
    "if __name__ == \"__main__\":\n",
    "    checker = PalindromeChecker('level')\n",
    "    result = checker.is_palindrome()\n",
    "    print(result)\n"
   ]
  },
  {
   "cell_type": "code",
   "execution_count": null,
   "id": "2f509b84",
   "metadata": {},
   "outputs": [],
   "source": []
  }
 ],
 "metadata": {
  "kernelspec": {
   "display_name": "Python 3 (ipykernel)",
   "language": "python",
   "name": "python3"
  },
  "language_info": {
   "codemirror_mode": {
    "name": "ipython",
    "version": 3
   },
   "file_extension": ".py",
   "mimetype": "text/x-python",
   "name": "python",
   "nbconvert_exporter": "python",
   "pygments_lexer": "ipython3",
   "version": "3.11.5"
  }
 },
 "nbformat": 4,
 "nbformat_minor": 5
}
