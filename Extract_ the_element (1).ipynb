{
 "cells": [
  {
   "cell_type": "code",
   "execution_count": 1,
   "id": "a63673c7",
   "metadata": {},
   "outputs": [
    {
     "name": "stdout",
     "output_type": "stream",
     "text": [
      "[2, 6, 10, 14]\n",
      "[4, 7, 10, 13]\n",
      "[[6, 7, 8], [10, 11, 12]]\n"
     ]
    }
   ],
   "source": [
    "#Perform the following operations:\n",
    "\n",
    "#extract  from the second column.\n",
    "#Extract the anti-diagonal elements (from top-right to bottom-left).\n",
    "#Extract the submatrix from the second row to the third row and the second column to the fourth column.\n",
    "\n",
    "\n",
    "matrix = [\n",
    "    [1, 2, 3, 4],\n",
    "    [5, 6, 7, 8],\n",
    "    [9, 10, 11, 12],\n",
    "    [13, 14, 15, 16]\n",
    "]\n",
    "\n",
    "# Given matrix\n",
    "matrix = [\n",
    "    [1, 2, 3, 4],\n",
    "    [5, 6, 7, 8],\n",
    "    [9, 10, 11, 12],\n",
    "    [13, 14, 15, 16]\n",
    "]\n",
    "\n",
    "# Extract the elements from the second column\n",
    "result5_1 = [row[1] for row in matrix]\n",
    "print(result5_1)\n",
    "\n",
    "\n",
    "# Extract the anti-diagonal elements\n",
    "result5_2 = [matrix[i][-(i + 1)] for i in range(len(matrix))]\n",
    "print(result5_2)\n",
    "\n",
    "\n",
    "# Extract the submatrix from the second row to the third row and the second column to the fourth column\n",
    "result5_3 = [row[1:4] for row in matrix[1:3]]\n",
    "print(result5_3)"
   ]
  }
 ],
 "metadata": {
  "kernelspec": {
   "display_name": "Python 3 (ipykernel)",
   "language": "python",
   "name": "python3"
  },
  "language_info": {
   "codemirror_mode": {
    "name": "ipython",
    "version": 3
   },
   "file_extension": ".py",
   "mimetype": "text/x-python",
   "name": "python",
   "nbconvert_exporter": "python",
   "pygments_lexer": "ipython3",
   "version": "3.11.5"
  }
 },
 "nbformat": 4,
 "nbformat_minor": 5
}
